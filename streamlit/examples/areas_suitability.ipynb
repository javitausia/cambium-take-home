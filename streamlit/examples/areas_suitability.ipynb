{
 "cells": [
  {
   "cell_type": "code",
   "execution_count": 7,
   "id": "f85207f9-57e4-4883-863a-d962f031ab4c",
   "metadata": {},
   "outputs": [
    {
     "data": {
      "text/html": [
       "\n",
       "            <style>\n",
       "                .geemap-dark {\n",
       "                    --jp-widgets-color: white;\n",
       "                    --jp-widgets-label-color: white;\n",
       "                    --jp-ui-font-color1: white;\n",
       "                    --jp-layout-color2: #454545;\n",
       "                    background-color: #383838;\n",
       "                }\n",
       "\n",
       "                .geemap-dark .jupyter-button {\n",
       "                    --jp-layout-color3: #383838;\n",
       "                }\n",
       "\n",
       "                .geemap-colab {\n",
       "                    background-color: var(--colab-primary-surface-color, white);\n",
       "                }\n",
       "\n",
       "                .geemap-colab .jupyter-button {\n",
       "                    --jp-layout-color3: var(--colab-primary-surface-color, white);\n",
       "                }\n",
       "            </style>\n",
       "            "
      ],
      "text/plain": [
       "<IPython.core.display.HTML object>"
      ]
     },
     "metadata": {},
     "output_type": "display_data"
    }
   ],
   "source": [
    "import sys\n",
    "sys.path.insert(0, \"../cambiame-app/\")\n",
    "\n",
    "from pathlib import Path\n",
    "import geemap\n",
    "\n",
    "from src.config import STATIC_FILES_PATH\n",
    "from src.main import CambiumTakeHomeChallenge"
   ]
  },
  {
   "cell_type": "code",
   "execution_count": 9,
   "id": "d735928c-c10e-48ee-9135-18d6465bed06",
   "metadata": {},
   "outputs": [
    {
     "data": {
      "text/html": [
       "\n",
       "            <style>\n",
       "                .geemap-dark {\n",
       "                    --jp-widgets-color: white;\n",
       "                    --jp-widgets-label-color: white;\n",
       "                    --jp-ui-font-color1: white;\n",
       "                    --jp-layout-color2: #454545;\n",
       "                    background-color: #383838;\n",
       "                }\n",
       "\n",
       "                .geemap-dark .jupyter-button {\n",
       "                    --jp-layout-color3: #383838;\n",
       "                }\n",
       "\n",
       "                .geemap-colab {\n",
       "                    background-color: var(--colab-primary-surface-color, white);\n",
       "                }\n",
       "\n",
       "                .geemap-colab .jupyter-button {\n",
       "                    --jp-layout-color3: var(--colab-primary-surface-color, white);\n",
       "                }\n",
       "            </style>\n",
       "            "
      ],
      "text/plain": [
       "<IPython.core.display.HTML object>"
      ]
     },
     "metadata": {},
     "output_type": "display_data"
    },
    {
     "name": "stdout",
     "output_type": "stream",
     "text": [
      "Processing 1/1: 0\n"
     ]
    }
   ],
   "source": [
    "# Instantiate the main class to download and render all data\n",
    "cambium_challenge = CambiumTakeHomeChallenge(\n",
    "    area_of_interest_geojson_filename=\"corrientes1_area\", area_of_interest_geojson_file=\"../data/corrientes1/corrientes1_area.geojson\"\n",
    ")\n",
    "# Plot different layers in geemap\n",
    "m = geemap.Map()\n",
    "m.add_basemap(\"SATELLITE\")\n",
    "m.add_layer(cambium_challenge.drainage_ee,\n",
    "            vis_params={\n",
    "                \"palette\": cambium_challenge.drainage_palette,\n",
    "                \"vmin\": cambium_challenge.drainage_params.get(\"min\"),\n",
    "                \"vmax\": cambium_challenge.drainage_params.get(\"max\")\n",
    "            },\n",
    "            name=\"Drainage\",\n",
    "            shown=False)\n",
    "m.add_layer(cambium_challenge.land_usage_ee.first(), name=\"Land Usage\", shown=False)\n",
    "# m.add_geojson(cambium_challenge.argentina_protected_area.__geo_interface__, layer_name='Protected Areas')\n",
    "elevation_dataset = cambium_challenge.elevation_xarray.assign_coords(time=('time', [0]))\n",
    "geemap.xee_to_image(elevation_dataset, filenames=[Path(STATIC_FILES_PATH, \"elevation.tif\")])\n",
    "for layer in [\n",
    "    {\"var\": \"elevation\", \"name\": \"Elevation\"},\n",
    "    # {\"var\": \"slope\", \"name\": \"Slope\"},\n",
    "    # {\"var\": \"binary_slope\", \"name\": \"Binary Slope (|slope| > 1)\"}\n",
    "]:\n",
    "    var_raster = geemap.array_to_image(elevation_dataset[layer.get(\"var\")],\n",
    "                                       source=Path(STATIC_FILES_PATH, \"elevation.tif\"))\n",
    "    m.add_raster(var_raster, colormap=\"terrain\", layer_name=layer.get(\"name\"), shown=False)\n",
    "# m.add_geojson(cambium_challenge.area_of_interest_geojson_file.__geo_interface__,\n",
    "#               layer_name=\"Area of Interest\",\n",
    "#               color=\"red\")\n",
    "# Get areas with the study applied ;)\n",
    "areas_of_study = cambium_challenge.get_area_viability()\n",
    "m.add_geojson(areas_of_study.__geo_interface__,\n",
    "              layer_name=\"Studied Areas\",\n",
    "              fill_colors=areas_of_study[\"color\"])"
   ]
  },
  {
   "cell_type": "code",
   "execution_count": 10,
   "id": "04ae94fe-a537-4296-bf55-c8f383a61f15",
   "metadata": {},
   "outputs": [
    {
     "data": {
      "text/html": [
       "\n",
       "            <style>\n",
       "                .geemap-dark {\n",
       "                    --jp-widgets-color: white;\n",
       "                    --jp-widgets-label-color: white;\n",
       "                    --jp-ui-font-color1: white;\n",
       "                    --jp-layout-color2: #454545;\n",
       "                    background-color: #383838;\n",
       "                }\n",
       "\n",
       "                .geemap-dark .jupyter-button {\n",
       "                    --jp-layout-color3: #383838;\n",
       "                }\n",
       "\n",
       "                .geemap-colab {\n",
       "                    background-color: var(--colab-primary-surface-color, white);\n",
       "                }\n",
       "\n",
       "                .geemap-colab .jupyter-button {\n",
       "                    --jp-layout-color3: var(--colab-primary-surface-color, white);\n",
       "                }\n",
       "            </style>\n",
       "            "
      ],
      "text/plain": [
       "<IPython.core.display.HTML object>"
      ]
     },
     "metadata": {},
     "output_type": "display_data"
    },
    {
     "data": {
      "application/vnd.jupyter.widget-view+json": {
       "model_id": "66a081d660a74b898795ef1875b0d6ef",
       "version_major": 2,
       "version_minor": 0
      },
      "text/plain": [
       "Map(center=[-28.5, -56.5], controls=(WidgetControl(options=['position', 'transparent_bg'], widget=SearchDataGU…"
      ]
     },
     "metadata": {},
     "output_type": "display_data"
    }
   ],
   "source": [
    "m"
   ]
  }
 ],
 "metadata": {
  "kernelspec": {
   "display_name": "Python 3 (ipykernel)",
   "language": "python",
   "name": "python3"
  },
  "language_info": {
   "codemirror_mode": {
    "name": "ipython",
    "version": 3
   },
   "file_extension": ".py",
   "mimetype": "text/x-python",
   "name": "python",
   "nbconvert_exporter": "python",
   "pygments_lexer": "ipython3",
   "version": "3.9.5"
  }
 },
 "nbformat": 4,
 "nbformat_minor": 5
}
